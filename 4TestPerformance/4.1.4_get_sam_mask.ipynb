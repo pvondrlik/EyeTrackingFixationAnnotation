{
 "cells": [
  {
   "cell_type": "markdown",
   "metadata": {},
   "source": [
    "\n",
    "\n",
    "\n",
    "## As the SAM masks are not stored in the cluster, they have to be generated.\n"
   ]
  },
  {
   "cell_type": "code",
   "execution_count": null,
   "metadata": {},
   "outputs": [],
   "source": [
    "import matplotlib.pyplot as plt\n",
    "import pandas as pd\n",
    "import numpy as np\n",
    "from PIL import Image\n",
    "from ultralytics import SAM"
   ]
  },
  {
   "cell_type": "code",
   "execution_count": null,
   "metadata": {},
   "outputs": [],
   "source": [
    "folder_path = \"/data/\"\n",
    "eval_path = folder_path + \"cyprus_eval_frames.csv\"\n",
    "eval_path_results = folder_path + \"/fixation_and_labels_total.csv\""
   ]
  },
  {
   "cell_type": "code",
   "execution_count": null,
   "metadata": {},
   "outputs": [],
   "source": [
    "# sam model\n",
    "model = SAM(\"/models/sam_b.pt\") # path to the model\n",
    "model.info()\n",
    "sam = model"
   ]
  },
  {
   "cell_type": "markdown",
   "metadata": {},
   "source": [
    "### create sam masks for all images\n"
   ]
  },
  {
   "cell_type": "code",
   "execution_count": null,
   "metadata": {},
   "outputs": [],
   "source": [
    "data = pd.read_csv(eval_path_results)\n",
    "\n",
    "for color in [\"red\"]:\n",
    "\n",
    "    for i in range(0, len(data)):\n",
    "        x = data[\"x\"].iloc[i]\n",
    "        y = data[\"y\"].iloc[i]\n",
    "        session = data[\"session\"].iloc[i]\n",
    "        response = data[\"response\"].iloc[i]\n",
    "        frame_nr = data[\"frame_nr\"].iloc[i]\n",
    "        str_frame_nr = f\"{frame_nr:05d}\"\n",
    "\n",
    "        # get image path\n",
    "        img_path = (\n",
    "            folder_path\n",
    "            + \"/evalset/images_wo_dot/\"\n",
    "            + session\n",
    "            + \"_\"\n",
    "            + str_frame_nr\n",
    "            + \".jpg\"\n",
    "        )\n",
    "\n",
    "        result = sam(source=img_path, stream=False, points=[x, y], labels=[1])\n",
    "\n",
    "        # save the masks\n",
    "        # Convert to numpy array (Eager Execution)\n",
    "        mask_array = result[0][0].masks.data.numpy()\n",
    "\n",
    "        # Save to .npy file\n",
    "        np.save(\n",
    "            folder_path + \"/data/evalset/sams/\" + session + \"_\" + str_frame_nr + \".npy\",\n",
    "            mask_array,\n",
    "        )"
   ]
  },
  {
   "cell_type": "markdown",
   "metadata": {},
   "source": [
    "### Plot all images with sam Files"
   ]
  },
  {
   "cell_type": "code",
   "execution_count": null,
   "metadata": {},
   "outputs": [],
   "source": [
    "# plot the image with mask for each image\n",
    "data = pd.read_csv(eval_path_results)\n",
    "for i in range(0, 100):\n",
    "    x = data[\"x\"].iloc[i]\n",
    "    y = data[\"y\"].iloc[i]\n",
    "    session = data[\"session\"].iloc[i]\n",
    "    response = data[\"response\"].iloc[i]\n",
    "    frame_nr = data[\"frame_nr\"].iloc[i]\n",
    "    str_frame_nr = f\"{frame_nr:05d}\"\n",
    "    print(session, str_frame_nr, x, y)\n",
    "\n",
    "    img_path = (\n",
    "        folder_path + \"/evalset/images_wo_dot/\" + session + \"_\" + str_frame_nr + \".jpg\"\n",
    "    )\n",
    "    # Load the mask\n",
    "    mask = np.load(\n",
    "        folder_path + \"/evalset/sams/\" + session + \"_\" + str_frame_nr + \".npy\"\n",
    "    )\n",
    "\n",
    "    # plot the image with mask\n",
    "\n",
    "    plt.figure(figsize=(5, 15))\n",
    "    plt.imshow(image)\n",
    "\n",
    "    image = Image.open(img_path)\n",
    "    img = np.array(image)\n",
    "    img[mask[0] == False] = (255, 0, 0)  # Red color\n",
    "    plt.imshow(img)\n",
    "    plt.axis(\"off\")  # Turn off x and y axes\n",
    "    plt.show()"
   ]
  }
 ],
 "metadata": {
  "kernelspec": {
   "display_name": "ba-cv-sam-env",
   "language": "python",
   "name": "python3"
  },
  "language_info": {
   "codemirror_mode": {
    "name": "ipython",
    "version": 3
   },
   "file_extension": ".py",
   "mimetype": "text/x-python",
   "name": "python",
   "nbconvert_exporter": "python",
   "pygments_lexer": "ipython3",
   "version": "3.11.5"
  }
 },
 "nbformat": 4,
 "nbformat_minor": 2
}
