{
 "cells": [
  {
   "cell_type": "code",
   "execution_count": null,
   "metadata": {},
   "outputs": [],
   "source": [
    "from IPython.display import clear_output\n",
    "import pandas as pd\n",
    "import json\n",
    "\n",
    "import sys\n",
    "sys.path.append(\"/src/\")\n",
    "from visualize import (\n",
    "    show_complete_fixation_with_all_frames_all_gaze,\n",
    ")"
   ]
  },
  {
   "cell_type": "code",
   "execution_count": null,
   "metadata": {},
   "outputs": [],
   "source": [
    "folder_path = \"/data/\"\n",
    "\n",
    "eval_path = folder_path + \"cyprus_eval_frames.csv\"\n",
    "eval_path_results = folder_path + \"cyprus_eval_frames_results.csv\"\n",
    "eval_path_results_prediction = folder_path + \"cyprus_eval_frames_results_prediction.csv\"\n",
    "\n",
    "# load the names and print the categories\n",
    "p = \"/label_mapping.json\" # path to the label mapping\n",
    "with open(p, \"r\") as f:\n",
    "    label_mapping = json.load(f)\n",
    "    categories = set(label_mapping[\"category_mapping\"].values())"
   ]
  },
  {
   "cell_type": "code",
   "execution_count": null,
   "metadata": {},
   "outputs": [],
   "source": [
    "\"\"\"\n",
    "goes throuhg all fixationas and shows the image with the fixation point\n",
    "\"\"\"\n",
    "\n",
    "CHECK = True  # set true if you already have results an want to review them\n",
    "\n",
    "data = pd.read_csv(eval_path_results_prediction)\n",
    "# Add an empty 'response' column to your DataFrame if it doesn't already exist\n",
    "if \"response\" not in data.columns:\n",
    "    data[\"response\"] = None\n",
    "\n",
    "\n",
    "for i, row in data.iterrows():\n",
    "    ## get frame number\n",
    "    x = row[\"x\"]\n",
    "    y = row[\"y\"]\n",
    "    session = row[\"session\"]\n",
    "    frame_nr = row[\"frame_nr\"]\n",
    "    str_frame_nr = f\"{frame_nr:05d}\"\n",
    "    imgs_path = folder_path + session + \"/video_frames_img/\"\n",
    "\n",
    "    if CHECK:\n",
    "        response = row[\"response\"]\n",
    "        print(f\"Frame {i+1} of {len(data)}\\n{session},{str_frame_nr},{response}\")\n",
    "    else:\n",
    "        response = \"\"\n",
    "\n",
    "    # get the gaze point belonging to the fixation\n",
    "    fix_df = pd.read_csv(folder_path + session + \"/fixation_and_labels_leveled.csv\")\n",
    "    # get the fixation id\n",
    "    fix_id = fix_df[fix_df[\"frame_nr\"] == frame_nr].iloc[0][\"fixation_id\"]\n",
    "    # show the fixation\n",
    "    show_complete_fixation_with_all_frames_all_gaze(fix_df, fix_id, imgs_path)\n",
    "\n",
    "    # if the response is in category you can eigther press enter to keep the response or change it by typing something new\n",
    "    if response in categories or response in {\"a\", \"m\", \"ambiguous\", \"merke\"}:\n",
    "        new_response = input(\"Enter your response (yes/no/maybe): \").strip().lower()\n",
    "        if new_response != \"\":\n",
    "            response = new_response\n",
    "    while response not in categories and response not in {\n",
    "        \"a\",\n",
    "        \"m\",\n",
    "        \"ambiguous\",\n",
    "        \"merke\",  # list of possible responses besides the categories\n",
    "    }:\n",
    "        response = input(\"Enter your response: \").strip().lower()\n",
    "        if response not in categories:\n",
    "            print(\"Invalid response. Please enter:\", categories)\n",
    "\n",
    "    # safe response\n",
    "    data.loc[i, \"response\"] = response\n",
    "\n",
    "    clear_output(wait=True)\n",
    "\n",
    "    eval_path_results_total_fix = (\n",
    "        folder_path + \"cyprus_eval_frames_results_total_fix.csv\"\n",
    "    )\n",
    "    # store the results\n",
    "    data.to_csv(eval_path_results_total_fix, index=False)"
   ]
  }
 ],
 "metadata": {
  "kernelspec": {
   "display_name": "ba-cv-sam-env",
   "language": "python",
   "name": "python3"
  },
  "language_info": {
   "codemirror_mode": {
    "name": "ipython",
    "version": 3
   },
   "file_extension": ".py",
   "mimetype": "text/x-python",
   "name": "python",
   "nbconvert_exporter": "python",
   "pygments_lexer": "ipython3",
   "version": "3.11.5"
  }
 },
 "nbformat": 4,
 "nbformat_minor": 2
}
