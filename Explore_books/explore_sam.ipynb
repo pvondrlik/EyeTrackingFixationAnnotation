{
 "cells": [
  {
   "cell_type": "markdown",
   "metadata": {},
   "source": [
    "## Testing  SAM\n",
    "- speed when using differnt prediction methods\n",
    "- different sam versions"
   ]
  },
  {
   "cell_type": "code",
   "execution_count": 1,
   "metadata": {},
   "outputs": [
    {
     "name": "stderr",
     "output_type": "stream",
     "text": [
      "/home/pvondrlik/Anwendungen/miniconda3/envs/ba-cv-sam-env/lib/python3.11/site-packages/tqdm/auto.py:21: TqdmWarning: IProgress not found. Please update jupyter and ipywidgets. See https://ipywidgets.readthedocs.io/en/stable/user_install.html\n",
      "  from .autonotebook import tqdm as notebook_tqdm\n",
      "2024-03-12 10:21:21.445955: I tensorflow/core/util/port.cc:111] oneDNN custom operations are on. You may see slightly different numerical results due to floating-point round-off errors from different computation orders. To turn them off, set the environment variable `TF_ENABLE_ONEDNN_OPTS=0`.\n",
      "2024-03-12 10:21:21.499546: I tensorflow/tsl/cuda/cudart_stub.cc:28] Could not find cuda drivers on your machine, GPU will not be used.\n",
      "2024-03-12 10:21:21.755289: E tensorflow/compiler/xla/stream_executor/cuda/cuda_dnn.cc:9342] Unable to register cuDNN factory: Attempting to register factory for plugin cuDNN when one has already been registered\n",
      "2024-03-12 10:21:21.755408: E tensorflow/compiler/xla/stream_executor/cuda/cuda_fft.cc:609] Unable to register cuFFT factory: Attempting to register factory for plugin cuFFT when one has already been registered\n",
      "2024-03-12 10:21:21.757084: E tensorflow/compiler/xla/stream_executor/cuda/cuda_blas.cc:1518] Unable to register cuBLAS factory: Attempting to register factory for plugin cuBLAS when one has already been registered\n",
      "2024-03-12 10:21:21.874412: I tensorflow/core/platform/cpu_feature_guard.cc:182] This TensorFlow binary is optimized to use available CPU instructions in performance-critical operations.\n",
      "To enable the following instructions: AVX2 AVX512F AVX512_VNNI FMA, in other operations, rebuild TensorFlow with the appropriate compiler flags.\n",
      "2024-03-12 10:21:23.009414: W tensorflow/compiler/tf2tensorrt/utils/py_utils.cc:38] TF-TRT Warning: Could not find TensorRT\n"
     ]
    }
   ],
   "source": [
    "import cv2\n",
    "import matplotlib.pyplot as plt\n",
    "import numpy as np"
   ]
  },
  {
   "cell_type": "code",
   "execution_count": 3,
   "metadata": {},
   "outputs": [],
   "source": [
    "def show_mask(mask_data, ax):\n",
    "    color = np.array([1, 0, 1, 0.6])\n",
    "    h, w = mask_data.shape[-2:]\n",
    "    mask_image = mask_data.reshape(h, w, 1) * color.reshape(1, 1, -1)\n",
    "    ax.imshow(mask_image)\n",
    "\n",
    "def show_points(pos_points, ax, marker_size=375):\n",
    "    ax.scatter(pos_points[0], pos_points[1], color='green', marker='*', s=marker_size, edgecolor='white', linewidth=1.25)\n",
    "\n",
    "def display_sam(mask, point, path):\n",
    "    \n",
    "    image = cv2.imread(path)\n",
    "    fig, ax = plt.subplots(figsize=(5,3)) # Adjust size as needed\n",
    "    # Display the image\n",
    "    ax.imshow(image)\n",
    "    # Assuming show_mask and show_points are functions that overlay masks and points respectively\n",
    "\n",
    "    show_mask(mask, ax)  # Show the first mask\n",
    "    show_points(point, ax)\n",
    "\n",
    "    plt.title('Expl_1_ET_1_2023-09-05_11-56-16_ET')\n",
    "    plt.show()"
   ]
  },
  {
   "cell_type": "code",
   "execution_count": 4,
   "metadata": {},
   "outputs": [
    {
     "name": "stdout",
     "output_type": "stream",
     "text": [
      "Model summary: 346 layers, 10130092 parameters, 10130092 gradients\n"
     ]
    }
   ],
   "source": [
    "from ultralytics import SAM\n",
    "\n",
    "#sam model \n",
    "model = SAM('/home/pvondrlik/Desktop/BA_Thesis/repo-movie-analysis/models/mobile_sam.pt')\n",
    "model.info()\n",
    "sam = model"
   ]
  },
  {
   "cell_type": "code",
   "execution_count": 5,
   "metadata": {},
   "outputs": [],
   "source": [
    "from ultralytics.models.sam import Predictor as SAMPredictor\n",
    "overrides = dict(conf=0.25, task='segment', mode='predict', imgsz=1024, model=\"/home/pvondrlik/Desktop/BA_Thesis/repo-movie-analysis/models/mobile_sam.pt\")\n",
    "predictor = SAMPredictor(overrides=overrides)"
   ]
  },
  {
   "cell_type": "markdown",
   "metadata": {},
   "source": [
    "### testing sam predicitons for speed"
   ]
  },
  {
   "cell_type": "code",
   "execution_count": 25,
   "metadata": {},
   "outputs": [],
   "source": [
    "from PIL import Image\n",
    "# resize image to 256x256\n",
    "path = \"/home/pvondrlik/Desktop/BA_Thesis/repo-movie-analysis/data/Expl_1_ET_1_2023-09-05_11-56-16_ET/frame_11110.jpg\"\n",
    "path_new = \"/home/pvondrlik/Desktop/BA_Thesis/repo-movie-analysis/data/Expl_1_ET_1_2023-09-05_11-56-16_ET/frame_11110_small.jpg\"\n",
    "img = Image.open(path)\n",
    "img = img.resize((256, 256))\n",
    "img.save(path_new)"
   ]
  },
  {
   "cell_type": "code",
   "execution_count": 10,
   "metadata": {},
   "outputs": [],
   "source": [
    "import time\n",
    "path = \"/home/pvondrlik/Desktop/BA_Thesis/repo-movie-analysis/data/Expl_3_ET_1_2023-09-06_13-24-43_ET/video_frames_img/frame_13379.jpg\"\n",
    "points = [[100, 100], [200, 200],[100, 100], [200, 200], [100, 100], [200, 200],[100, 100] ]\n",
    "labels=[1, 1, 1, 1, 1, 1, 1 ]"
   ]
  },
  {
   "cell_type": "code",
   "execution_count": null,
   "metadata": {},
   "outputs": [],
   "source": [
    "# # more efficient but still slow\n",
    "starttime = time.process_time()\n",
    "gen_res = sam(source = path, stream=False, points=points, labels=labels)\n",
    "print(f'Time sam 7 points: {time.process_time() - starttime}')\n",
    "#r[0].masks.data[0]\n",
    "\n",
    "# inefficient\n",
    "starttime = time.process_time()\n",
    "for p in points:\n",
    "    res_sam = sam(path, points=p, labels=[1])\n",
    "print(f'Time 7 times sam : {time.process_time() - starttime}')\n",
    "\n",
    "# predictor\n",
    "r1 = []\n",
    "starttime = time.process_time()\n",
    "predictor.set_image(path)\n",
    "for p in points:\n",
    "    r1.append(predictor(im, points=points, labels=labels, return_tensors=True))\n",
    "predictor.reset_image()\n",
    "print(f'Time predictor 7 points: {time.process_time() - starttime}')\n"
   ]
  },
  {
   "cell_type": "markdown",
   "metadata": {},
   "source": [
    "### show the video"
   ]
  },
  {
   "cell_type": "code",
   "execution_count": null,
   "metadata": {},
   "outputs": [],
   "source": [
    "video_path = \"video_raw.mp4\"\n",
    "cap = cv2.VideoCapture(video_path)\n",
    "\n",
    "# get video properties\n",
    "frame_height = int(cap.get(cv2.CAP_PROP_FRAME_HEIGHT))\n",
    "frame_width = int(cap.get(cv2.CAP_PROP_FRAME_WIDTH))\n",
    "\n",
    "# the cap.set is not working. therfore I use this one\n",
    "for frame in range(1000):  #TODO: fangen frames by 0 ode 1 an\n",
    "    ret, frame = cap.read()\n",
    "    if not ret:\n",
    "        break\n",
    "\n",
    "\n",
    "# Loop through frames\n",
    "for frame_nr in range(1000, 1010):\n",
    "\n",
    "    ret, frame = cap.read() # \n",
    "    results = sam(source = frame, stream=False, points=points, labels=labels)\n",
    "    \n",
    "    for i in range(len(results[0].masks.data)):\n",
    "        mask = results[0].masks.data[i]\n",
    "        print(mask)\n",
    "        ret, frame = cap.read()"
   ]
  },
  {
   "cell_type": "markdown",
   "metadata": {},
   "source": [
    "### second sam approach\n"
   ]
  },
  {
   "cell_type": "code",
   "execution_count": 17,
   "metadata": {},
   "outputs": [
    {
     "name": "stderr",
     "output_type": "stream",
     "text": [
      "Model summary: 238 layers, 93735472 parameters, 93735472 gradients\n"
     ]
    }
   ],
   "source": [
    "import torch\n",
    "from PIL import Image\n",
    "import numpy as np\n",
    "import requests\n",
    "from transformers import SamModel, SamProcessor\n",
    "from ultralytics import SAM\n",
    "import cv2\n",
    "from segment_anything import sam_model_registry, SamAutomaticMaskGenerator, SamPredictor\n"
   ]
  },
  {
   "cell_type": "code",
   "execution_count": 16,
   "metadata": {},
   "outputs": [],
   "source": [
    "model = SAM('/models/sam_b.pt')\n",
    "model.info()\n",
    "sam = model\n",
    "img_path =  \"\"\n",
    "img = cv2.imread(img_path)\n",
    "input_point = np.array([200, 200])\n",
    "input_label = np.array(1)\n",
    "results = model(img_path, points=input_point, labels=input_label, return_tensors=True)\n",
    "masks1, scores1 = results[0].masks, results[0].probs\n",
    "masks1, scores1"
   ]
  }
 ],
 "metadata": {
  "kernelspec": {
   "display_name": "ba-cv-sam-env",
   "language": "python",
   "name": "python3"
  },
  "language_info": {
   "codemirror_mode": {
    "name": "ipython",
    "version": 3
   },
   "file_extension": ".py",
   "mimetype": "text/x-python",
   "name": "python",
   "nbconvert_exporter": "python",
   "pygments_lexer": "ipython3",
   "version": "3.11.5"
  }
 },
 "nbformat": 4,
 "nbformat_minor": 2
}
