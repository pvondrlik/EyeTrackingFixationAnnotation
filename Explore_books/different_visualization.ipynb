{
 "cells": [
  {
   "cell_type": "markdown",
   "metadata": {},
   "source": [
    "## Visualization\n",
    "This Notebook represents different visualizations of the data"
   ]
  },
  {
   "cell_type": "code",
   "execution_count": null,
   "metadata": {},
   "outputs": [],
   "source": [
    "from visualize import (\n",
    "    show_complete_fixation_with_all_frames_all_gaze,\n",
    "    get_seg_img,\n",
    "    show_sam_seg_img,\n",
    "    save_single_image,\n",
    "    print_image_with_point,\n",
    "    show_video,\n",
    "    show_frames,\n",
    ")"
   ]
  },
  {
   "cell_type": "code",
   "execution_count": null,
   "metadata": {},
   "outputs": [],
   "source": [
    "# returns the segmentation mask and the image with the segmentation mask applied\n",
    "img_with_seg, color_seg = get_seg_img(img, seg)"
   ]
  },
  {
   "cell_type": "code",
   "execution_count": null,
   "metadata": {},
   "outputs": [],
   "source": [
    "# shows the complete fixation with all frames and all gaze points\n",
    "show_complete_fixation_with_all_frames_all_gaze(df, fix_nr, img_path, labels = False, max_img = False)"
   ]
  },
  {
   "cell_type": "code",
   "execution_count": null,
   "metadata": {},
   "outputs": [],
   "source": [
    "# shows three images: the original image, the segmentation mask and the segmetation on the original image\n",
    "show_sam_seg_img(image, point, seg_mask, sam_mask, title=\"Segmentation Mask\")"
   ]
  },
  {
   "cell_type": "code",
   "execution_count": null,
   "metadata": {},
   "outputs": [],
   "source": [
    "# Save the segmented image  with the sam mask\n",
    "save_single_image(mask, input_point, img_with_seg, output_filename)"
   ]
  },
  {
   "cell_type": "code",
   "execution_count": null,
   "metadata": {},
   "outputs": [],
   "source": [
    "# This function is used to plot the gaze point on the image\n",
    "print_image_with_point(ax, img_path, gaze_x, gaze_y, frame_nr=None, color=\"red\")"
   ]
  },
  {
   "cell_type": "code",
   "execution_count": null,
   "metadata": {},
   "outputs": [],
   "source": [
    "#T his function shows the frames of the video with the gaze and fixation points as a video\n",
    "show_video(\n",
    "    video_path,\n",
    "    start_frame=0,\n",
    "    end_frame=1000,\n",
    "    show_gaze=False,\n",
    "    show_fix=False,\n",
    "    show_label=False,\n",
    "    merged_gaze_df=None,\n",
    "    merged_fix_df=None,\n",
    "    merged_label_df=None,\n",
    ")"
   ]
  },
  {
   "cell_type": "code",
   "execution_count": null,
   "metadata": {},
   "outputs": [],
   "source": [
    "# This function shows the frames of the video with the gaze and fixation points as images\n",
    "show_frames(\n",
    "    video_path,\n",
    "    start_frame=2000,\n",
    "    n_show=25,\n",
    "    fq_show=100,\n",
    "    show_gaze=False,\n",
    "    merged_gaze_df=None,\n",
    ")"
   ]
  }
 ],
 "metadata": {
  "language_info": {
   "name": "python"
  }
 },
 "nbformat": 4,
 "nbformat_minor": 2
}
